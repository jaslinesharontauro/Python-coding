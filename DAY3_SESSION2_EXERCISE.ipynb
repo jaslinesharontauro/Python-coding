{
  "nbformat": 4,
  "nbformat_minor": 0,
  "metadata": {
    "colab": {
      "name": "DAY3_SESSION2_EXERCISE.ipynb",
      "provenance": [],
      "collapsed_sections": [],
      "authorship_tag": "ABX9TyMwr2lM6NOoTspRDBo32rr2",
      "include_colab_link": true
    },
    "kernelspec": {
      "name": "python3",
      "display_name": "Python 3"
    }
  },
  "cells": [
    {
      "cell_type": "markdown",
      "metadata": {
        "id": "view-in-github",
        "colab_type": "text"
      },
      "source": [
        "<a href=\"https://colab.research.google.com/github/jaslinesharontauro/Python-coding/blob/master/DAY3_SESSION2_EXERCISE.ipynb\" target=\"_parent\"><img src=\"https://colab.research.google.com/assets/colab-badge.svg\" alt=\"Open In Colab\"/></a>"
      ]
    },
    {
      "cell_type": "markdown",
      "metadata": {
        "id": "hzpSfynO6IYx",
        "colab_type": "text"
      },
      "source": [
        "#Write a Python Program to Print Multiplication Table of a number which got through keyboard"
      ]
    },
    {
      "cell_type": "code",
      "metadata": {
        "id": "L3HVqcoT6Pva",
        "colab_type": "code",
        "colab": {
          "base_uri": "https://localhost:8080/",
          "height": 50
        },
        "outputId": "669b0744-8f13-40b7-a56c-37c0330fb9b6"
      },
      "source": [
        "a=[]\n",
        "n=int(input(\"enter the value of n\"))\n",
        "for i in range(1,11):\n",
        "  b=i*n\n",
        "  a.append(str(b))\n",
        "print(','.join(a))"
      ],
      "execution_count": null,
      "outputs": [
        {
          "output_type": "stream",
          "text": [
            "enter the value of n4\n",
            "4,8,12,16,20,24,28,32,36,40\n"
          ],
          "name": "stdout"
        }
      ]
    },
    {
      "cell_type": "markdown",
      "metadata": {
        "id": "DyBjXZKv6Ypq",
        "colab_type": "text"
      },
      "source": [
        "#Write a Python Program to find the Armstrong Numbers between 1 and 2000"
      ]
    },
    {
      "cell_type": "code",
      "metadata": {
        "id": "X-oKCEQA6beS",
        "colab_type": "code",
        "colab": {
          "base_uri": "https://localhost:8080/",
          "height": 34
        },
        "outputId": "f39e0b13-6431-44cb-d960-ae6abc570bd9"
      },
      "source": [
        "a=[]\n",
        "for i in range(1,2001):\n",
        " temp=i\n",
        " d=0\n",
        " l=0\n",
        " s=0\n",
        " while(temp>0):\n",
        "  temp=temp//10\n",
        "  d=d+1\n",
        " temp=i\n",
        " while(temp>0):\n",
        "  l=temp%10\n",
        "  s=s+l**d\n",
        "  temp=temp//10\n",
        " if(s==i):\n",
        "  a.append(str(i))\n",
        "print(a)"
      ],
      "execution_count": null,
      "outputs": [
        {
          "output_type": "stream",
          "text": [
            "['1', '2', '3', '4', '5', '6', '7', '8', '9', '153', '370', '371', '407', '1634']\n"
          ],
          "name": "stdout"
        }
      ]
    },
    {
      "cell_type": "markdown",
      "metadata": {
        "id": "syTMUoHa6hgq",
        "colab_type": "text"
      },
      "source": [
        "#Write a python program to get the list of tuples (rollno, name) for n students by getting rollno and name through keyboard. Sort and print them as rollno wise and name wise both ascending and descending as well as alphabetical and dealphabetical orders"
      ]
    },
    {
      "cell_type": "code",
      "metadata": {
        "id": "KvvO5dbK6ko5",
        "colab_type": "code",
        "colab": {
          "base_uri": "https://localhost:8080/",
          "height": 218
        },
        "outputId": "804cc14f-c198-404f-d31b-c070917aa12f"
      },
      "source": [
        "a=[]\n",
        "def inp():\n",
        "  rolno=input(\"enter the rolno\")\n",
        "  name=input(\"enter the name\")\n",
        "  return(rolno,name)\n",
        "n=int(input(\"Enter the value of n\"))\n",
        "for i in range(1,n+1):\n",
        "  a.append(inp())\n",
        "print(a)\n",
        "a.sort(key=lambda i:i[0])\n",
        "print(f'According to Rollno:Ascending order:{a}')\n",
        "print(f'According to Rollno:Descending order:{a[::-1]}')\n",
        "a.sort(key=lambda i:i[1])\n",
        "print(f'According to Name:Alphabeticallyorder:{a}')\n",
        "print(f'According to Name:Dealphabetically order:{a[::-1]}')"
      ],
      "execution_count": null,
      "outputs": [
        {
          "output_type": "stream",
          "text": [
            "Enter the value of n3\n",
            "enter the rolno100\n",
            "enter the nameAashi\n",
            "enter the rolno101\n",
            "enter the nameArmaan\n",
            "enter the rolno110\n",
            "enter the nameNeil\n",
            "[('100', 'Aashi'), ('101', 'Armaan'), ('110', 'Neil')]\n",
            "According to Rollno:Ascending order:[('100', 'Aashi'), ('101', 'Armaan'), ('110', 'Neil')]\n",
            "According to Rollno:Descending order:[('110', 'Neil'), ('101', 'Armaan'), ('100', 'Aashi')]\n",
            "According to Name:Alphabeticallyorder:[('100', 'Aashi'), ('101', 'Armaan'), ('110', 'Neil')]\n",
            "According to Name:Dealphabetically order:[('110', 'Neil'), ('101', 'Armaan'), ('100', 'Aashi')]\n"
          ],
          "name": "stdout"
        }
      ]
    },
    {
      "cell_type": "markdown",
      "metadata": {
        "id": "RAtQ4Lp761m5",
        "colab_type": "text"
      },
      "source": [
        ""
      ]
    },
    {
      "cell_type": "markdown",
      "metadata": {
        "id": "_GgyUhWg62Eh",
        "colab_type": "text"
      },
      "source": [
        "#Python Program to Detect if Two Strings are Anagrams ( They are the two strings which have same length and same words which may be different in their order)"
      ]
    },
    {
      "cell_type": "code",
      "metadata": {
        "id": "byCxaOlg68Oy",
        "colab_type": "code",
        "colab": {
          "base_uri": "https://localhost:8080/",
          "height": 67
        },
        "outputId": "a54a4fe5-167a-4499-df8b-5db3ac8c969e"
      },
      "source": [
        "s=input(\"Enter the first string\")\n",
        "s2=input(\"Enter the second string\")\n",
        "if(sorted(s)==sorted(s2)):\n",
        "  print(\"Strings are anagram\")\n",
        "else:\n",
        "  print(\"strings are not  anagram\")"
      ],
      "execution_count": null,
      "outputs": [
        {
          "output_type": "stream",
          "text": [
            "Enter the first stringanagram\n",
            "Enter the second stringnagaram\n",
            "Strings are anagram\n"
          ],
          "name": "stdout"
        }
      ]
    }
  ]
}